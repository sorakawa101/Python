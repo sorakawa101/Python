{
 "cells": [
  {
   "cell_type": "code",
   "execution_count": 24,
   "metadata": {},
   "outputs": [],
   "source": [
    "'''\n",
    "YoutubeのAPIを使って、Youtube内の特定の動画の情報を取得し、\n",
    "Excelに結果を吐き出して、その値を使って自動的にグラフを生成するプログラム\n",
    "'''\n",
    "import json\n",
    "import requests\n",
    "import datetime\n",
    "from apiclient.discovery import build #GoogleAnalyticsAPI　　\n",
    "from openpyxl import Workbook\n",
    "from openpyxl.chart import BarChart, Reference\n",
    "import numpy as np\n",
    "import time\n",
    "\n",
    "# 必要モジュールのインポート\n",
    "import os\n",
    "from dotenv import load_dotenv\n",
    "# .envファイルの内容を読み込見込む\n",
    "load_dotenv()\n",
    "\n",
    "YOUTUBE_API_KEY = os.environ['API_KEY'] #自分で作成したAPI KEY\n",
    "YOUTUBE_MOVIE_ID = 'AAsRtnbDs-0' #取得したい動画のID\n",
    "API_SERVICE_NAME = \"youtube\"\n",
    "API_VERSION = \"v3\""
   ]
  },
  {
   "cell_type": "code",
   "execution_count": 25,
   "metadata": {},
   "outputs": [],
   "source": [
    "youtube = build(API_SERVICE_NAME, API_VERSION, developerKey=YOUTUBE_API_KEY)\n",
    "list_statistics =[0]\n",
    "list_dt2 =[0]\n",
    "snippet = youtube.videos().list(part = 'snippet', id = YOUTUBE_MOVIE_ID).execute()['items'][0]['snippet']\n",
    "#print('動画タイトル　：　',snippet['title'])\n",
    "for i in range(1,10,360):\n",
    "    statistics = youtube.videos().list(part = 'statistics', id = YOUTUBE_MOVIE_ID).execute()['items'][0]['statistics']\n",
    "    list_statistics.append(statistics['viewCount'])\n",
    "    dt2 = datetime.datetime.now()\n",
    "    list_dt2.append(dt2)"
   ]
  },
  {
   "cell_type": "code",
   "execution_count": 26,
   "metadata": {},
   "outputs": [
    {
     "ename": "IndexError",
     "evalue": "list index out of range",
     "output_type": "error",
     "traceback": [
      "\u001b[0;31m---------------------------------------------------------------------------\u001b[0m",
      "\u001b[0;31mIndexError\u001b[0m                                Traceback (most recent call last)",
      "\u001b[0;32m<ipython-input-26-b8193a877dec>\u001b[0m in \u001b[0;36m<module>\u001b[0;34m\u001b[0m\n\u001b[1;32m      7\u001b[0m \u001b[0;32mfor\u001b[0m \u001b[0mi\u001b[0m \u001b[0;32min\u001b[0m \u001b[0mrange\u001b[0m\u001b[0;34m(\u001b[0m\u001b[0;36m1\u001b[0m\u001b[0;34m,\u001b[0m \u001b[0mlen_data\u001b[0m\u001b[0;34m)\u001b[0m\u001b[0;34m:\u001b[0m\u001b[0;34m\u001b[0m\u001b[0;34m\u001b[0m\u001b[0m\n\u001b[1;32m      8\u001b[0m     \u001b[0msheet\u001b[0m\u001b[0;34m.\u001b[0m\u001b[0mcell\u001b[0m\u001b[0;34m(\u001b[0m\u001b[0mrow\u001b[0m\u001b[0;34m=\u001b[0m \u001b[0mi\u001b[0m \u001b[0;34m+\u001b[0m \u001b[0;36m1\u001b[0m\u001b[0;34m,\u001b[0m \u001b[0mcolumn\u001b[0m \u001b[0;34m=\u001b[0m \u001b[0;36m1\u001b[0m\u001b[0;34m,\u001b[0m \u001b[0mvalue\u001b[0m \u001b[0;34m=\u001b[0m \u001b[0mX\u001b[0m\u001b[0;34m[\u001b[0m\u001b[0mi\u001b[0m\u001b[0;34m]\u001b[0m\u001b[0;34m)\u001b[0m\u001b[0;34m\u001b[0m\u001b[0;34m\u001b[0m\u001b[0m\n\u001b[0;32m----> 9\u001b[0;31m     \u001b[0msheet\u001b[0m\u001b[0;34m.\u001b[0m\u001b[0mcell\u001b[0m\u001b[0;34m(\u001b[0m\u001b[0mrow\u001b[0m\u001b[0;34m=\u001b[0m \u001b[0mi\u001b[0m \u001b[0;34m+\u001b[0m \u001b[0;36m1\u001b[0m\u001b[0;34m,\u001b[0m \u001b[0mcolumn\u001b[0m \u001b[0;34m=\u001b[0m \u001b[0;36m2\u001b[0m\u001b[0;34m,\u001b[0m \u001b[0mvalue\u001b[0m \u001b[0;34m=\u001b[0m \u001b[0mint\u001b[0m\u001b[0;34m(\u001b[0m\u001b[0mlist_statistics\u001b[0m\u001b[0;34m[\u001b[0m\u001b[0mi\u001b[0m\u001b[0;34m]\u001b[0m\u001b[0;34m)\u001b[0m\u001b[0;34m)\u001b[0m\u001b[0;34m\u001b[0m\u001b[0;34m\u001b[0m\u001b[0m\n\u001b[0m\u001b[1;32m     10\u001b[0m \u001b[0mchart\u001b[0m \u001b[0;34m=\u001b[0m \u001b[0mBarChart\u001b[0m\u001b[0;34m(\u001b[0m\u001b[0;34m)\u001b[0m\u001b[0;34m\u001b[0m\u001b[0;34m\u001b[0m\u001b[0m\n\u001b[1;32m     11\u001b[0m values = Reference(sheet,\n",
      "\u001b[0;31mIndexError\u001b[0m: list index out of range"
     ]
    }
   ],
   "source": [
    "wb = Workbook()\n",
    "sheet = wb.create_sheet(\"sheet01\",0) #sheet名\n",
    "sheet.cell(row = 1, column = 1, value = \"取得順序\")\n",
    "sheet.cell(row = 1, column = 2, value = \"再生回数\")\n",
    "X = np.arange(10)\n",
    "len_data = len(X)\n",
    "for i in range(1, len_data):\n",
    "    sheet.cell(row= i + 1, column = 1, value = X[i])\n",
    "    sheet.cell(row= i + 1, column = 2, value = int(list_statistics[i]))\n",
    "chart = BarChart()\n",
    "values = Reference(sheet,\n",
    "                min_row=1, min_col=2,\n",
    "                max_row=11, max_col=2)\n",
    "chart.add_data(values, titles_from_data=True)\n",
    "xvalues = Reference(sheet,\n",
    "                min_row=2, min_col=1,\n",
    "                max_row=11, max_col=1)\n",
    "chart.set_categories(xvalues)\n",
    "\n",
    "sheet.add_chart(chart, \"E15\")\n",
    "wb.save(\"視聴動向回数グラフ.xlsx\") #左記ファイル名で保存\n",
    "\n"
   ]
  }
 ],
 "metadata": {
  "kernelspec": {
   "display_name": "Python 3",
   "language": "python",
   "name": "python3"
  },
  "language_info": {
   "codemirror_mode": {
    "name": "ipython",
    "version": 3
   },
   "file_extension": ".py",
   "mimetype": "text/x-python",
   "name": "python",
   "nbconvert_exporter": "python",
   "pygments_lexer": "ipython3",
   "version": "3.9.4 (default, May  6 2021, 16:33:23) \n[Clang 12.0.5 (clang-1205.0.22.9)]"
  },
  "orig_nbformat": 4,
  "vscode": {
   "interpreter": {
    "hash": "4706f29cac928ef508a0c15ae69014c2de2959315c5c66931b07ac2fcf51dd21"
   }
  }
 },
 "nbformat": 4,
 "nbformat_minor": 2
}
