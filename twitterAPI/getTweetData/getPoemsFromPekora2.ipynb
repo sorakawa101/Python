{
 "cells": [
  {
   "attachments": {},
   "cell_type": "markdown",
   "metadata": {},
   "source": [
    "### ユーザー名からタイムラインのツイートデータを取得してCSVに書き起こすプログラム"
   ]
  },
  {
   "cell_type": "code",
   "execution_count": 168,
   "metadata": {},
   "outputs": [],
   "source": [
    "import tweepy\n",
    "from datetime import datetime,timezone\n",
    "import pytz\n",
    "import pandas as pd\n",
    "import os\n",
    "from dotenv import load_dotenv"
   ]
  },
  {
   "attachments": {},
   "cell_type": "markdown",
   "metadata": {},
   "source": [
    "##### Twitter認証（ここはTwitterAPIを使うとき大体共通）"
   ]
  },
  {
   "cell_type": "code",
   "execution_count": 169,
   "metadata": {},
   "outputs": [],
   "source": [
    "# Twitter情報\n",
    "\n",
    "load_dotenv()\n",
    "\n",
    "# API情報\n",
    "CK = os.environ['CONSUMER_KEY']\n",
    "CS = os.environ['CONSUMER_SECRET']\n",
    "AT = os.environ['ACCESS_TOKEN']\n",
    "ATS = os.environ['ACCESS_TOKEN_SECRET']\n",
    "\n",
    "#Twitterの認証\n",
    "auth = tweepy.OAuthHandler(CK, CS)\n",
    "auth.set_access_token(AT, ATS)\n",
    "api = tweepy.API(auth)\n",
    "\n",
    "#　”wait_on_rate_limit = True”　利用制限にひっかかた時に必要時間待機する\n",
    "api=tweepy.API(auth,wait_on_rate_limit=True)"
   ]
  },
  {
   "attachments": {},
   "cell_type": "markdown",
   "metadata": {},
   "source": [
    "##### ↓次のセルを変更\n",
    "- Account...@から始まるアカウント名を指定\n",
    "- req_tweet_cnt...取得するツイート数を指定\n",
    "  - 1500 requests / 15 mins PER APP\n",
    "  - 900 requests / 15 mins PER USER"
   ]
  },
  {
   "cell_type": "code",
   "execution_count": 170,
   "metadata": {},
   "outputs": [],
   "source": [
    "#取得するツイートの数と、検索するアカウントの入力\n",
    "Account= '@usadapekora'\n",
    "req_tweet_cnt = 4000"
   ]
  },
  {
   "attachments": {},
   "cell_type": "markdown",
   "metadata": {},
   "source": [
    "##### 必要なTweetデータを取得\n",
    "api.user_timeline： 特定のユーザーのタイムライン情報を取得\n",
    "\n",
    "``` python\n",
    "tweepy.Cursor(api.user_timeline, id=\"アカウント名\").items(取得上限)\n",
    "```"
   ]
  },
  {
   "cell_type": "code",
   "execution_count": 171,
   "metadata": {},
   "outputs": [],
   "source": [
    "#検索条件を元にツイートを抽出\n",
    "tweets = tweepy.Cursor(api.user_timeline, tweet_mode='extended', id=Account).items(req_tweet_cnt)"
   ]
  },
  {
   "attachments": {},
   "cell_type": "markdown",
   "metadata": {},
   "source": [
    "##### 取得できる時間データは世界時間なので日本時間に形式を変換"
   ]
  },
  {
   "cell_type": "code",
   "execution_count": 172,
   "metadata": {},
   "outputs": [],
   "source": [
    "#世界時間を日本時間に変換する\n",
    "def change_time_JST(time):\n",
    "    utc = datetime(time.year, time.month,time.day, \\\n",
    "    time.hour,time.minute,time.second, tzinfo=timezone.utc)\n",
    "    jst = utc.astimezone(pytz.timezone(\"Asia/Tokyo\"))\n",
    "    str_time = jst.strftime(\"%Y-%m-%d_%H:%M:%S\")\n",
    "    return str_time"
   ]
  },
  {
   "attachments": {},
   "cell_type": "markdown",
   "metadata": {},
   "source": [
    "##### Tweetデータを格納"
   ]
  },
  {
   "cell_type": "code",
   "execution_count": 173,
   "metadata": {},
   "outputs": [
    {
     "name": "stderr",
     "output_type": "stream",
     "text": [
      "Unexpected parameter: id\n",
      "Unexpected parameter: id\n",
      "Unexpected parameter: id\n",
      "Unexpected parameter: id\n",
      "Unexpected parameter: id\n",
      "Unexpected parameter: id\n",
      "Unexpected parameter: id\n",
      "Unexpected parameter: id\n",
      "Unexpected parameter: id\n",
      "Unexpected parameter: id\n",
      "Unexpected parameter: id\n",
      "Unexpected parameter: id\n",
      "Unexpected parameter: id\n",
      "Unexpected parameter: id\n",
      "Unexpected parameter: id\n",
      "Unexpected parameter: id\n",
      "Unexpected parameter: id\n",
      "Unexpected parameter: id\n",
      "Unexpected parameter: id\n",
      "Unexpected parameter: id\n",
      "Unexpected parameter: id\n",
      "Unexpected parameter: id\n",
      "Unexpected parameter: id\n",
      "Unexpected parameter: id\n",
      "Unexpected parameter: id\n",
      "Unexpected parameter: id\n",
      "Unexpected parameter: id\n",
      "Unexpected parameter: id\n",
      "Unexpected parameter: id\n",
      "Unexpected parameter: id\n",
      "Unexpected parameter: id\n",
      "Unexpected parameter: id\n",
      "Unexpected parameter: id\n",
      "Unexpected parameter: id\n",
      "Unexpected parameter: id\n",
      "Unexpected parameter: id\n",
      "Unexpected parameter: id\n",
      "Unexpected parameter: id\n",
      "Unexpected parameter: id\n",
      "Unexpected parameter: id\n",
      "Unexpected parameter: id\n",
      "Unexpected parameter: id\n",
      "Unexpected parameter: id\n",
      "Unexpected parameter: id\n",
      "Unexpected parameter: id\n",
      "Unexpected parameter: id\n",
      "Unexpected parameter: id\n",
      "Unexpected parameter: id\n",
      "Unexpected parameter: id\n",
      "Unexpected parameter: id\n",
      "Unexpected parameter: id\n",
      "Unexpected parameter: id\n",
      "Unexpected parameter: id\n",
      "Unexpected parameter: id\n",
      "Unexpected parameter: id\n",
      "Unexpected parameter: id\n",
      "Unexpected parameter: id\n",
      "Unexpected parameter: id\n",
      "Unexpected parameter: id\n",
      "Unexpected parameter: id\n",
      "Unexpected parameter: id\n",
      "Unexpected parameter: id\n",
      "Unexpected parameter: id\n",
      "Unexpected parameter: id\n",
      "Unexpected parameter: id\n",
      "Unexpected parameter: id\n",
      "Unexpected parameter: id\n",
      "Unexpected parameter: id\n",
      "Unexpected parameter: id\n",
      "Unexpected parameter: id\n",
      "Unexpected parameter: id\n",
      "Unexpected parameter: id\n",
      "Unexpected parameter: id\n",
      "Unexpected parameter: id\n",
      "Unexpected parameter: id\n",
      "Unexpected parameter: id\n",
      "Unexpected parameter: id\n",
      "Unexpected parameter: id\n",
      "Unexpected parameter: id\n",
      "Unexpected parameter: id\n",
      "Unexpected parameter: id\n",
      "Unexpected parameter: id\n",
      "Unexpected parameter: id\n",
      "Unexpected parameter: id\n",
      "Unexpected parameter: id\n",
      "Unexpected parameter: id\n",
      "Unexpected parameter: id\n",
      "Unexpected parameter: id\n",
      "Unexpected parameter: id\n",
      "Unexpected parameter: id\n",
      "Unexpected parameter: id\n",
      "Unexpected parameter: id\n",
      "Unexpected parameter: id\n",
      "Unexpected parameter: id\n",
      "Unexpected parameter: id\n",
      "Unexpected parameter: id\n",
      "Unexpected parameter: id\n",
      "Unexpected parameter: id\n",
      "Unexpected parameter: id\n",
      "Unexpected parameter: id\n",
      "Unexpected parameter: id\n",
      "Unexpected parameter: id\n",
      "Unexpected parameter: id\n",
      "Unexpected parameter: id\n",
      "Unexpected parameter: id\n",
      "Unexpected parameter: id\n",
      "Unexpected parameter: id\n",
      "Unexpected parameter: id\n",
      "Unexpected parameter: id\n",
      "Unexpected parameter: id\n",
      "Unexpected parameter: id\n",
      "Unexpected parameter: id\n",
      "Unexpected parameter: id\n",
      "Unexpected parameter: id\n",
      "Unexpected parameter: id\n",
      "Unexpected parameter: id\n",
      "Unexpected parameter: id\n",
      "Unexpected parameter: id\n",
      "Unexpected parameter: id\n",
      "Unexpected parameter: id\n",
      "Unexpected parameter: id\n",
      "Unexpected parameter: id\n",
      "Unexpected parameter: id\n",
      "Unexpected parameter: id\n",
      "Unexpected parameter: id\n",
      "Unexpected parameter: id\n",
      "Unexpected parameter: id\n",
      "Unexpected parameter: id\n",
      "Unexpected parameter: id\n",
      "Unexpected parameter: id\n",
      "Unexpected parameter: id\n",
      "Unexpected parameter: id\n",
      "Unexpected parameter: id\n",
      "Unexpected parameter: id\n",
      "Unexpected parameter: id\n",
      "Unexpected parameter: id\n",
      "Unexpected parameter: id\n",
      "Unexpected parameter: id\n",
      "Unexpected parameter: id\n",
      "Unexpected parameter: id\n",
      "Unexpected parameter: id\n",
      "Unexpected parameter: id\n",
      "Unexpected parameter: id\n",
      "Unexpected parameter: id\n",
      "Unexpected parameter: id\n",
      "Unexpected parameter: id\n",
      "Unexpected parameter: id\n",
      "Unexpected parameter: id\n",
      "Unexpected parameter: id\n",
      "Unexpected parameter: id\n",
      "Unexpected parameter: id\n",
      "Unexpected parameter: id\n",
      "Unexpected parameter: id\n",
      "Unexpected parameter: id\n",
      "Unexpected parameter: id\n",
      "Unexpected parameter: id\n",
      "Unexpected parameter: id\n",
      "Unexpected parameter: id\n",
      "Unexpected parameter: id\n",
      "Unexpected parameter: id\n",
      "Unexpected parameter: id\n",
      "Unexpected parameter: id\n",
      "Unexpected parameter: id\n",
      "Unexpected parameter: id\n"
     ]
    }
   ],
   "source": [
    "# 取得したデータを格納する配列\n",
    "tweet_data = []\n",
    "\n",
    "poems = {}\n",
    "\n",
    "# データを格納するイテレーション\n",
    "for tweet in tweets:\n",
    "    #ツイート時刻とユーザのアカウント作成時刻を日本時刻にする\n",
    "    tweet_time = change_time_JST(tweet.created_at)\n",
    "    # create_account_time = change_time_JST(tweet.user.created_at)\n",
    "\n",
    "    # リツイートとリプライを除外しながらデータを取得\n",
    "    # if not tweet.favorite_count == 0 and not \"@\" in tweet.text:\n",
    "\n",
    "    # 引用ツイートかつhttp~の配信URLを持つツイート内容をポエムとして保持\n",
    "    if tweet.is_quote_status and ('http' in tweet.full_text):\n",
    "        poems[tweet.quoted_status_id_str] = tweet.full_text.split('http')[0]\n",
    "        continue\n",
    "\n",
    "    # \"▽待機所▽\"が含まれるツイートは配信前ツイートと判断して一覧を作る。また、そのツイートIDと保持していたポエムの引用元ツイートIDが一致したとき、ポエムをCSVに書き込む\n",
    "    if \"▽待機所▽\" in tweet.full_text:\n",
    "        #tweet_dataの配列に取得したい情報を入れていく\n",
    "        tweet_data.append([\n",
    "            tweet.id,\n",
    "            tweet_time,\n",
    "            tweet.full_text,\n",
    "            poems[tweet.id_str] if (tweet.id_str in poems) else \"\"\n",
    "            # tweet.favorite_count,\n",
    "            # tweet.retweet_count,\n",
    "            # tweet.user.screen_name,\n",
    "            # tweet.user.name,\n",
    "            # tweet.user.description,\n",
    "            # tweet.user.friends_count,\n",
    "            # tweet.user.followers_count,\n",
    "            # create_account_time,\n",
    "            # tweet.in_reply_to_status_id_str,\n",
    "            # tweet.in_reply_to_user_id_str,\n",
    "            # tweet.coordinates,\n",
    "            # tweet.user.verified\n",
    "        ])"
   ]
  },
  {
   "attachments": {},
   "cell_type": "markdown",
   "metadata": {},
   "source": [
    "##### 取り出したデータをpandasのDataFrameに変換"
   ]
  },
  {
   "cell_type": "code",
   "execution_count": 174,
   "metadata": {},
   "outputs": [],
   "source": [
    "#CSVファイルに出力するときの列の名前を定義\n",
    "columns=[\n",
    "    'ツイートID',\n",
    "    'ツイートされた時間(日本時間)',\n",
    "    '配信前ツイート',\n",
    "    # 'いいねの数',\n",
    "    # 'リツイートの数',\n",
    "    # 'ツイートした人のID',\n",
    "    # 'アカウント名',\n",
    "    # '自己紹介文',\n",
    "    # 'フォロー数',\n",
    "    # 'フォロワー数',\n",
    "    # 'アカウント作成日時',\n",
    "    # 'ツイートが返信の場合、返信先のツイートID',\n",
    "    # 'ツイートが返信の場合、返信先のユーザーID',\n",
    "    # 'ツイートされた場所',\n",
    "    # '認証アカウント(公式アカウント)かどうか'\n",
    "    'ぽえーむ'\n",
    "    ]\n",
    "\n",
    "#tweet_dataのリストをpandasのDataFrameに変換\n",
    "df = pd.DataFrame(tweet_data, columns=columns)"
   ]
  },
  {
   "attachments": {},
   "cell_type": "markdown",
   "metadata": {},
   "source": [
    "##### CSVファイルに出力する"
   ]
  },
  {
   "cell_type": "code",
   "execution_count": 175,
   "metadata": {},
   "outputs": [],
   "source": [
    "#CSVファイルの名前を決める\n",
    "csv_file_name='pekora_poems2.csv'\n",
    "\n",
    "#CSVファイルを出力する\n",
    "df.to_csv('./output/'+csv_file_name,encoding='utf-8-sig',index=False)"
   ]
  },
  {
   "attachments": {},
   "cell_type": "markdown",
   "metadata": {},
   "source": [
    "##### テキストファイルに出力する"
   ]
  },
  {
   "cell_type": "code",
   "execution_count": 176,
   "metadata": {},
   "outputs": [],
   "source": [
    "# テキストファイルの名前を決める\n",
    "text_file_name = 'pekora_poems2.txt'\n",
    "\n",
    "# 'ぽえーむ'の列の要素を抽出してリスト化、その後区切り文字','を指定して文字列結合\n",
    "text = ','.join(df['ぽえーむ'].to_list())\n",
    "\n",
    "# テキストファイルを出力する\n",
    "with open('./output/'+text_file_name, 'w') as f:  # 「with open('test.txt', 'wt') as f:」と同じ\n",
    "    f.writelines(text)  # 文字列リストはwritelinesメソッドで書き込む"
   ]
  }
 ],
 "metadata": {
  "kernelspec": {
   "display_name": "Python 3",
   "language": "python",
   "name": "python3"
  },
  "language_info": {
   "codemirror_mode": {
    "name": "ipython",
    "version": 3
   },
   "file_extension": ".py",
   "mimetype": "text/x-python",
   "name": "python",
   "nbconvert_exporter": "python",
   "pygments_lexer": "ipython3",
   "version": "3.9.4"
  },
  "orig_nbformat": 4,
  "vscode": {
   "interpreter": {
    "hash": "4706f29cac928ef508a0c15ae69014c2de2959315c5c66931b07ac2fcf51dd21"
   }
  }
 },
 "nbformat": 4,
 "nbformat_minor": 2
}
