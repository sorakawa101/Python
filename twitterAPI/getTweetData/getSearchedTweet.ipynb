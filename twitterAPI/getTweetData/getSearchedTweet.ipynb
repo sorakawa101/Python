{
 "cells": [
  {
   "attachments": {},
   "cell_type": "markdown",
   "metadata": {},
   "source": [
    "### 様々な入力からツイートデータを収集してCSVに書き起こすプログラム"
   ]
  },
  {
   "cell_type": "code",
   "execution_count": 25,
   "metadata": {},
   "outputs": [],
   "source": [
    "import tweepy\n",
    "from datetime import datetime,timezone\n",
    "import pytz\n",
    "import pandas as pd\n",
    "import os\n",
    "from dotenv import load_dotenv"
   ]
  },
  {
   "attachments": {},
   "cell_type": "markdown",
   "metadata": {},
   "source": [
    "##### Twitter認証"
   ]
  },
  {
   "cell_type": "code",
   "execution_count": 26,
   "metadata": {},
   "outputs": [],
   "source": [
    "# Twitter情報\n",
    "\n",
    "load_dotenv()\n",
    "\n",
    "# API情報\n",
    "CK = os.environ['CONSUMER_KEY']\n",
    "CS = os.environ['CONSUMER_SECRET']\n",
    "AT = os.environ['ACCESS_TOKEN']\n",
    "ATS = os.environ['ACCESS_TOKEN_SECRET']\n",
    "\n",
    "#Twitterの認証\n",
    "auth = tweepy.OAuthHandler(CK, CS)\n",
    "auth.set_access_token(AT, ATS)\n",
    "api = tweepy.API(auth)\n",
    "\n",
    "#　”wait_on_rate_limit = True”　利用制限にひっかかた時に必要時間待機する\n",
    "api=tweepy.API(auth,wait_on_rate_limit=True)"
   ]
  },
  {
   "attachments": {},
   "cell_type": "markdown",
   "metadata": {},
   "source": [
    "##### ↓次のセルを変更\n",
    "- search_word...検索したいキーワードを指定\n",
    "- req_tweet_cnt...取得するツイート数を指定\n",
    "  - 450 requests / 15 mins PER APP\n",
    "  - 180 requests / 15 mins PER USER"
   ]
  },
  {
   "cell_type": "code",
   "execution_count": 27,
   "metadata": {},
   "outputs": [],
   "source": [
    "#取得するツイートの数と、検索するアカウントの入力\n",
    "search_word = 'from:@sakuramiko35 -filter:retweets -filter:replies -filter:links'\n",
    "req_tweet_cnt = 1000"
   ]
  },
  {
   "attachments": {},
   "cell_type": "markdown",
   "metadata": {},
   "source": [
    "##### 必要なTweetデータを取得\n",
    "api.user_timeline： 特定のユーザーのタイムライン情報を取得\n",
    "\n",
    "``` python\n",
    "tweepy.Cursor(api.search_tweets,q=search_word, tweet_mode='extended',result_type=\"mixed\",lang='ja').items(req_tweet_cnt)\n",
    "```\n",
    "\n",
    "|search_word|説明|\n",
    "|:---:|:---:|\n",
    "|キーワード -除外するキーワード|\t-の後に続くキーワードを除外して検索|\n",
    "|キーワード min_faves:100|\tいいねの数が100以上のツイートだけ|\n",
    "|キーワード min_retweets:100|\t100リツイート以上のツイートを検索|\n",
    "|from:ユーザーネーム|\t特定のユーザーのツイートを検索|\n",
    "|キーワード1 OR キーワード2|\tブログもしくはブロガーのキーワードを検索|\n",
    "|“キーワード”|\t” “で囲われた文字列に完全一致するツイートを検索|\n",
    "\n",
    "<br/>\n",
    "\n",
    "|result_type|説明|\n",
    "|:---:|:---:|\n",
    "|recent|最新のツイート|\n",
    "|popular|人気のあるツイート（基準は不明）|\n",
    "|mixed|recentとpopularの結果を合わせたもの|\n",
    "\n",
    "<br/>\n",
    "\n",
    "※ tweet_mode='extended'...140文字以上のツイートも取得可能になる"
   ]
  },
  {
   "attachments": {},
   "cell_type": "markdown",
   "metadata": {},
   "source": [
    "##### 使えそうなクエリ\n",
    "\n",
    "- \"島風 かわいい\" - 島風 かわいいが含まれるツイートの検索\n",
    "- 島風 OR 天津風 - 島風か天津風が含まれるツイートの検索\n",
    "- 島風 -天津風 - 島風が含まれ天津風が含まれないツイートの検索\n",
    "- #島風 - ハッシュタグ島風が含まれるツイートの検索\n",
    "- from:user - ユーザーuserのツイートを検索\n",
    "- to:user - 宛先がユーザーuserのツイートを検索\n",
    "- @user - リプライ@userが含まれるツイートの検索\n",
    "- 島風 since:2015-02-23 - 2015年2月23日以降の島風が含まれるツイートを最新から順に検索(search/tweetsでは1週間以上前のツイートは検索不可)\n",
    "- 島風 until:2015-02-23 - 2015年2月23日以前の島風が含まれるツイートを最新から順に検索(search/tweetsでは1週間以上前のツイートは検索不可)\n",
    "- 島風 :) - 島風が含まれ内容がポジティブなツイートの検索\n",
    "- 島風 :( - 島風が含まれ内容がネガティブなツイートの検索\n",
    "- 島風 ? - 島風が含まれ内容が疑問形なツイートの検索\n",
    "- 島風 source:flantter - 島風が含まれFlantterからつぶやかれたツイートの検索\n",
    "- 島風 lang:ja - 島風が含まれ日本語のツイートを検索(他en等)\n",
    "- 島風 include:retweets - 島風が含まれるリツイートを含むツイートを検索\n",
    "- 島風 exclude:retweets - 島風が含まれるリツイートを含まないツイートを検索\n",
    "- 島風 exclude:nativeretweets - 島風が含まれるリツイートを含まないツイートを検索?\n",
    "- 島風 list:user/listname - userのlistnameというリスト内で島風が含まれるツイートを検索\n",
    "- 島風 geocode:37.78115,-122.39872,1mi - 島風を含み、緯度、経度、範囲を指定して検索(単位はkm,mi等)\n",
    "- 島風 near:me - 島風を含み自分に近いところにいる人間のツイートを検索 (ドキュメントに書いてない)\n",
    "- 島風 near:新潟 - 島風を含み新潟付近でつぶやかれたツイートの検索\n",
    "- 島風 near:新潟 within:10km - 島風を含み新潟付近でつぶやかれたツイートの検索(範囲を10kmに指定、単位はkm,mi等)\n",
    "- 島風 filter:links - 島風とリンクが含まれるツイートの検索\n",
    "- 島風 filter:verified - 島風が含まれ認証されたアカウントからつぶやかれたツイートを検索\n",
    "- 島風 filter:images - 島風と画像が含まれるツイートの検索\n",
    "- 島風 filter:twimg - 島風とツイッターの画像が含まれるツイートの検索\n",
    "- 島風 filter:videos - 島風と動画が含まれるツイートの検索\n",
    "- 島風 filter:media - 島風とメディア(画像と動画)が含まれるツイートの検索\n",
    "- 島風 filter:vine - 島風とVineが含まれるツイートの検索 (ドキュメントに書いてない)\n",
    "- 島風 filter:news - 島風が含まれ、ニュースだと思われるツイートの検索 (ドキュメントに書いてない)\n",
    "- 島風 filter:safe - 島風が含まれ、possibly_sensitiveフラグが0のツイートの検索？\n",
    "- 島風 filter:periscope - 島風が含まれ、periscopeで配信しているツイートの検索\n",
    "- 島風 filter:native_video - 島風が含まれ、periscope,vineまたはTwitterにアップロードされた動画の検索\n",
    "- 島風 card_name:animated_gif - 島風が含まれ、GIFが含まれるツイートを検索 (ドキュメントに書いてない)\n",
    "- 島風 min_retweets:100 - 島風が含まれリツイートが100以上のツイートを検索 (ドキュメントに書いてない)\n",
    "- 島風 min_faves:100 - 島風が含まれお気に入りが100以上のツイートを検索 (ドキュメントに書いてない)\n",
    "- 島風 min_replies:5 - 島風が含まれリプライが5以上のツイートを検索 (ドキュメントに書いてない)"
   ]
  },
  {
   "cell_type": "code",
   "execution_count": 28,
   "metadata": {},
   "outputs": [],
   "source": [
    "#検索条件を元にツイートを抽出\n",
    "tweets = tweepy.Cursor(api.search_tweets, q=search_word, tweet_mode='extended', result_type=\"mixed\", lang='ja').items(req_tweet_cnt)"
   ]
  },
  {
   "attachments": {},
   "cell_type": "markdown",
   "metadata": {},
   "source": [
    "##### 取得できる時間データは世界時間なので日本時間に形式を変換"
   ]
  },
  {
   "cell_type": "code",
   "execution_count": 29,
   "metadata": {},
   "outputs": [],
   "source": [
    "#世界時間を日本時間に変換する\n",
    "def change_time_JST(time):\n",
    "    utc = datetime(time.year, time.month,time.day, \\\n",
    "    time.hour,time.minute,time.second, tzinfo=timezone.utc)\n",
    "    jst = utc.astimezone(pytz.timezone(\"Asia/Tokyo\"))\n",
    "    str_time = jst.strftime(\"%Y-%m-%d_%H:%M:%S\")\n",
    "    return str_time"
   ]
  },
  {
   "attachments": {},
   "cell_type": "markdown",
   "metadata": {},
   "source": [
    "##### Tweetデータを格納"
   ]
  },
  {
   "cell_type": "code",
   "execution_count": 30,
   "metadata": {},
   "outputs": [],
   "source": [
    "# 取得したデータを格納する配列\n",
    "tweet_data = []\n",
    "\n",
    "# データを格納するイテレーション\n",
    "for tweet in tweets:\n",
    "    #ツイート時刻とユーザのアカウント作成時刻を日本時刻にする\n",
    "    tweet_time = change_time_JST(tweet.created_at)\n",
    "    create_account_time = change_time_JST(tweet.user.created_at)\n",
    "\n",
    "    # リツイートとリプライを除外しながらデータを取得\n",
    "\n",
    "    #tweet_dataの配列に取得したい情報を入れていく\n",
    "    tweet_data.append([\n",
    "        tweet.id,\n",
    "        tweet_time,\n",
    "        tweet.full_text,\n",
    "        tweet.favorite_count,\n",
    "        tweet.retweet_count,\n",
    "        tweet.user.id,\n",
    "        tweet.user.screen_name,\n",
    "        tweet.user.name,\n",
    "        # tweet.user.description,\n",
    "        # tweet.user.friends_count,\n",
    "        # tweet.user.followers_count,\n",
    "        # create_account_time,\n",
    "        # tweet.user.following,\n",
    "        tweet.user.profile_image_url,\n",
    "        tweet.user.profile_background_image_url,\n",
    "        # tweet.user.url\n",
    "    ])"
   ]
  },
  {
   "attachments": {},
   "cell_type": "markdown",
   "metadata": {},
   "source": [
    "##### 取り出したデータをpandasのDataFrameに変換"
   ]
  },
  {
   "cell_type": "code",
   "execution_count": 31,
   "metadata": {},
   "outputs": [],
   "source": [
    "#CSVファイルに出力するときの列の名前を定義\n",
    "columns=[\n",
    "    'ツイートID',\n",
    "    'ツイート時刻',\n",
    "    'ツイート本文',\n",
    "    'いいね数',\n",
    "    'リツイート数',\n",
    "    'ID',\n",
    "    'ユーザー名',\n",
    "    'アカウント名',\n",
    "    # '自己紹介文',\n",
    "    # 'フォロー数',\n",
    "    # 'フォロワー数',\n",
    "    # 'アカウント作成日時',\n",
    "    # '自分のフォロー状況',\n",
    "    'アイコン画像URL',\n",
    "    'ヘッダー画像URL',\n",
    "    # 'WEBサイト'\n",
    "    ]\n",
    "\n",
    "#tweet_dataのリストをpandasのDataFrameに変換\n",
    "df = pd.DataFrame(tweet_data, columns=columns)"
   ]
  },
  {
   "attachments": {},
   "cell_type": "markdown",
   "metadata": {},
   "source": [
    "##### CSVファイルに出力する"
   ]
  },
  {
   "cell_type": "code",
   "execution_count": 32,
   "metadata": {},
   "outputs": [],
   "source": [
    "#CSVファイルの名前を決める\n",
    "file_name='searched_tweets.csv'\n",
    "\n",
    "#CSVファイルを出力する\n",
    "df.to_csv('./output/'+file_name,encoding='utf-8-sig',index=False)"
   ]
  }
 ],
 "metadata": {
  "kernelspec": {
   "display_name": "Python 3",
   "language": "python",
   "name": "python3"
  },
  "language_info": {
   "codemirror_mode": {
    "name": "ipython",
    "version": 3
   },
   "file_extension": ".py",
   "mimetype": "text/x-python",
   "name": "python",
   "nbconvert_exporter": "python",
   "pygments_lexer": "ipython3",
   "version": "3.9.4"
  },
  "orig_nbformat": 4,
  "vscode": {
   "interpreter": {
    "hash": "4706f29cac928ef508a0c15ae69014c2de2959315c5c66931b07ac2fcf51dd21"
   }
  }
 },
 "nbformat": 4,
 "nbformat_minor": 2
}
