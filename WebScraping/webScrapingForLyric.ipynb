{
 "cells": [
  {
   "cell_type": "code",
   "execution_count": 2,
   "metadata": {},
   "outputs": [],
   "source": [
    "import requests\n",
    "from bs4 import BeautifulSoup\n",
    "import pandas as pd\n",
    "import time\n",
    "import re\n",
    "from datetime import datetime"
   ]
  },
  {
   "cell_type": "code",
   "execution_count": 5,
   "metadata": {},
   "outputs": [
    {
     "name": "stderr",
     "output_type": "stream",
     "text": [
      "<ipython-input-5-1978cc0ad617>:41: FutureWarning: The frame.append method is deprecated and will be removed from pandas in a future version. Use pandas.concat instead.\n",
      "  list_df = list_df.append(tmp_se)\n",
      "<ipython-input-5-1978cc0ad617>:41: FutureWarning: The frame.append method is deprecated and will be removed from pandas in a future version. Use pandas.concat instead.\n",
      "  list_df = list_df.append(tmp_se)\n"
     ]
    },
    {
     "ename": "KeyboardInterrupt",
     "evalue": "",
     "output_type": "error",
     "traceback": [
      "\u001b[0;31m---------------------------------------------------------------------------\u001b[0m",
      "\u001b[0;31mKeyboardInterrupt\u001b[0m                         Traceback (most recent call last)",
      "\u001b[0;32m<ipython-input-5-1978cc0ad617>\u001b[0m in \u001b[0;36m<module>\u001b[0;34m\u001b[0m\n\u001b[1;32m     36\u001b[0m \u001b[0;34m\u001b[0m\u001b[0m\n\u001b[1;32m     37\u001b[0m     \u001b[0;31m#サーバーに負荷を与えないため1秒待機\u001b[0m\u001b[0;34m\u001b[0m\u001b[0;34m\u001b[0m\u001b[0;34m\u001b[0m\u001b[0m\n\u001b[0;32m---> 38\u001b[0;31m     \u001b[0mtime\u001b[0m\u001b[0;34m.\u001b[0m\u001b[0msleep\u001b[0m\u001b[0;34m(\u001b[0m\u001b[0;36m1\u001b[0m\u001b[0;34m)\u001b[0m\u001b[0;34m\u001b[0m\u001b[0;34m\u001b[0m\u001b[0m\n\u001b[0m\u001b[1;32m     39\u001b[0m     \u001b[0;31m#取得した歌詞を表に追加\u001b[0m\u001b[0;34m\u001b[0m\u001b[0;34m\u001b[0m\u001b[0;34m\u001b[0m\u001b[0m\n\u001b[1;32m     40\u001b[0m     \u001b[0mtmp_se\u001b[0m \u001b[0;34m=\u001b[0m \u001b[0mpd\u001b[0m\u001b[0;34m.\u001b[0m\u001b[0mDataFrame\u001b[0m\u001b[0;34m(\u001b[0m\u001b[0;34m[\u001b[0m\u001b[0;34m[\u001b[0m\u001b[0msong_name\u001b[0m\u001b[0;34m]\u001b[0m\u001b[0;34m,\u001b[0m \u001b[0;34m[\u001b[0m\u001b[0mrelease_date\u001b[0m\u001b[0;34m]\u001b[0m\u001b[0;34m,\u001b[0m \u001b[0;34m[\u001b[0m\u001b[0mimpressions\u001b[0m\u001b[0;34m]\u001b[0m\u001b[0;34m,\u001b[0m \u001b[0;34m[\u001b[0m\u001b[0msong_lyric\u001b[0m\u001b[0;34m]\u001b[0m\u001b[0;34m]\u001b[0m\u001b[0;34m,\u001b[0m \u001b[0mindex\u001b[0m\u001b[0;34m=\u001b[0m\u001b[0mlist_df\u001b[0m\u001b[0;34m.\u001b[0m\u001b[0mcolumns\u001b[0m\u001b[0;34m)\u001b[0m\u001b[0;34m.\u001b[0m\u001b[0mT\u001b[0m\u001b[0;34m\u001b[0m\u001b[0;34m\u001b[0m\u001b[0m\n",
      "\u001b[0;31mKeyboardInterrupt\u001b[0m: "
     ]
    }
   ],
   "source": [
    "#スクレイピングしたデータを入れる表を作成\n",
    "list_df = pd.DataFrame(columns=['曲名','発売日', '表示回数', '歌詞'])\n",
    "\n",
    "# アーティストごとにページ数が違うので、rangeを変更する\n",
    "for page in range(1,2):\n",
    "    base_url = 'https://www.uta-net.com'\n",
    "    #歌詞一覧ページ\n",
    "    url = base_url + '/artist/31108/0/' + str(page) + '/'\n",
    "    response = requests.get(url)\n",
    "    soup = BeautifulSoup(response.text, 'lxml')\n",
    "    # links = soup.find_all('td', class_='side td1')\n",
    "    links = soup.find_all('td', class_='sp-w-100 pt-0 pt-lg-2')\n",
    "\n",
    "\n",
    "for link in links:\n",
    "    a = base_url + (link.a.get('href'))\n",
    "    # 歌詞詳細ページ\n",
    "    response = requests.get(a)\n",
    "\n",
    "    soup = BeautifulSoup(response.text, 'lxml')\n",
    "    # 曲名を取得\n",
    "    song_name = soup.find('h2').text\n",
    "    # 発売日、表示回数などを取得\n",
    "    detail = soup.find('p', class_=\"detail\").text\n",
    "    # 発売日を取得\n",
    "    match = re.search(r'\\d{4}/\\d{2}/\\d{2}', detail)\n",
    "    release_date = datetime.strptime(match.group(), '%Y/%m/%d').date()\n",
    "    # 表示回数を取得\n",
    "    p = r'この曲の表示回数：(.*)回'\n",
    "    impressions = re.search(p, detail).group(1)\n",
    "    # 歌詞を取得\n",
    "    song_lyrics = soup.find('div', itemprop='lyrics')\n",
    "    song_lyric = song_lyrics.text\n",
    "    # 改行を削除\n",
    "    song_lyric = song_lyric.replace('\\n','')\n",
    "    # 以下の文言を削除\n",
    "    song_lyric = song_lyric.replace('この歌詞をマイ歌ネットに登録 >このアーティストをマイ歌ネットに登録 >','')\n",
    "\n",
    "    #サーバーに負荷を与えないため1秒待機\n",
    "    time.sleep(1)\n",
    "\n",
    "    #取得した歌詞を表に追加\n",
    "    tmp_se = pd.DataFrame([[song_name], [release_date], [impressions], [song_lyric]], index=list_df.columns).T\n",
    "    list_df = list_df.append(tmp_se)"
   ]
  },
  {
   "cell_type": "code",
   "execution_count": 4,
   "metadata": {},
   "outputs": [],
   "source": [
    "#csv保存\n",
    "list_df.to_csv('./output/list.csv', mode = 'w', encoding='utf-8')"
   ]
  },
  {
   "attachments": {},
   "cell_type": "markdown",
   "metadata": {},
   "source": [
    "#### 参考\n",
    "- [ミスチルの歌詞をスクレイピングで取得してみた【Beautiful Soup】](https://zatsugaku-engineer.com/python/scraping/)"
   ]
  }
 ],
 "metadata": {
  "kernelspec": {
   "display_name": "Python 3",
   "language": "python",
   "name": "python3"
  },
  "language_info": {
   "codemirror_mode": {
    "name": "ipython",
    "version": 3
   },
   "file_extension": ".py",
   "mimetype": "text/x-python",
   "name": "python",
   "nbconvert_exporter": "python",
   "pygments_lexer": "ipython3",
   "version": "3.9.4"
  },
  "orig_nbformat": 4,
  "vscode": {
   "interpreter": {
    "hash": "4706f29cac928ef508a0c15ae69014c2de2959315c5c66931b07ac2fcf51dd21"
   }
  }
 },
 "nbformat": 4,
 "nbformat_minor": 2
}
