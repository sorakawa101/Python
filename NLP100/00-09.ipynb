{
 "cells": [
  {
   "attachments": {},
   "cell_type": "markdown",
   "metadata": {},
   "source": [
    "#### 第1章：準備運動"
   ]
  },
  {
   "attachments": {},
   "cell_type": "markdown",
   "metadata": {},
   "source": [
    "##### 00. 文字列の逆順\n",
    "文字列”stressed”の文字を逆に（末尾から先頭に向かって）並べた文字列を得よ。"
   ]
  },
  {
   "cell_type": "code",
   "execution_count": 3,
   "metadata": {},
   "outputs": [
    {
     "name": "stdout",
     "output_type": "stream",
     "text": [
      "desserts\n"
     ]
    }
   ],
   "source": [
    "def knock00():\n",
    "    str = 'stressed'\n",
    "    # 「先頭」から「末尾」まで「逆順の移動幅1」でスライス\n",
    "    print(str[::-1])\n",
    "\n",
    "if __name__ == '__main__':\n",
    "    knock00()\n"
   ]
  },
  {
   "attachments": {},
   "cell_type": "markdown",
   "metadata": {},
   "source": [
    "##### 01. パタトクカシーー\n",
    "「パタトクカシーー」という文字列の1、3、5、７文字目を取り出して連結した文字列を得よ。"
   ]
  },
  {
   "cell_type": "code",
   "execution_count": 8,
   "metadata": {},
   "outputs": [
    {
     "name": "stdout",
     "output_type": "stream",
     "text": [
      "パトカー\n",
      "パ\n"
     ]
    }
   ],
   "source": [
    "def knock01():\n",
    "    str = 'パタトクカシーー'\n",
    "    # 「先頭」から「末尾」まで「移動幅2」でスライス\n",
    "    print(str[::2])\n",
    "\n",
    "if __name__ == '__main__':\n",
    "    knock01()"
   ]
  },
  {
   "attachments": {},
   "cell_type": "markdown",
   "metadata": {},
   "source": [
    "##### 02. 「パトカー」＋「タクシー」＝「パタトクカシーー」\n",
    "「パトカー」＋「タクシー」の文字を先頭から交互に連結して文字列「パタトクカシーー」を得よ。"
   ]
  },
  {
   "cell_type": "code",
   "execution_count": 22,
   "metadata": {},
   "outputs": [
    {
     "name": "stdout",
     "output_type": "stream",
     "text": [
      "パタトクカシーー\n",
      "パタトクカシーー\n"
     ]
    }
   ],
   "source": [
    "def knock02():\n",
    "    str1 = 'パトカー'\n",
    "    str2 = 'タクシー'\n",
    "    ans1(str1, str2)\n",
    "    ans2(str1, str2)\n",
    "\n",
    "def ans1(str1, str2):\n",
    "    str = ''\n",
    "    # for i in zip(str) でstrの中身が一文字ずつ順次iに代入される\n",
    "    # 引数を二つ取る場合、要素が少ない方の要素数まで処理され、多い分は無視される\n",
    "    for i, j in zip(str1, str2):\n",
    "        str += i + j\n",
    "    print(str)\n",
    "\n",
    "def ans2(str1, str2):\n",
    "    str = ''\n",
    "    for i in range(4):\n",
    "        str += str1[i] + str2[i]\n",
    "    print(str)\n",
    "\n",
    "if __name__ == '__main__':\n",
    "    knock02()"
   ]
  },
  {
   "attachments": {},
   "cell_type": "markdown",
   "metadata": {},
   "source": [
    "##### 03. 円周率\n",
    "“Now I need a drink, alcoholic of course, after the heavy lectures involving quantum mechanics.”という文を単語に分解し、各単語の（アルファベットの）文字数を先頭から出現順に並べたリストを作成せよ。"
   ]
  },
  {
   "cell_type": "code",
   "execution_count": 23,
   "metadata": {},
   "outputs": [
    {
     "name": "stdout",
     "output_type": "stream",
     "text": [
      "['Now', 'I', 'need', 'a', 'drink', 'alcoholic', 'of', 'course', 'after', 'the', 'heavy', 'lectures', 'involving', 'quantum', 'mechanics']\n",
      "[3, 1, 4, 1, 5, 9, 2, 6, 5, 3, 5, 8, 9, 7, 9]\n"
     ]
    }
   ],
   "source": [
    "import re\n",
    "\n",
    "def knock03():\n",
    "\n",
    "    str = 'Now I need a drink, alcoholic of course, after the heavy lectures involving quantum mechanics.'\n",
    "\n",
    "    # ,と.を除去\n",
    "    str = re.sub('[,|.]', '', str)\n",
    "\n",
    "    # スペースで区切って、単語ごとのリストを作成\n",
    "    word_list = str.split(' ')\n",
    "    print(word_list)\n",
    "\n",
    "    # 単語の文字数のリストを作成\n",
    "    cnt_list = []\n",
    "    for word in word_list:\n",
    "        cnt_list.append(len(word))\n",
    "\n",
    "    print(cnt_list)\n",
    "\n",
    "if __name__ == '__main__':\n",
    "    knock03()\n"
   ]
  },
  {
   "attachments": {},
   "cell_type": "markdown",
   "metadata": {},
   "source": [
    "##### 04. 元素記号\n",
    "“Hi He Lied Because Boron Could Not Oxidize Fluorine. New Nations Might Also Sign Peace Security Clause. Arthur King Can.”という文を単語に分解し、1、5、6、7、8、9、15、16、19番目の単語は先頭の1文字，それ以外の単語は先頭の2文字を取り出し，取り出した文字列から単語の位置（先頭から何番目の単語か）への連想配列（辞書型もしくはマップ型）を作成せよ。"
   ]
  },
  {
   "cell_type": "code",
   "execution_count": 50,
   "metadata": {},
   "outputs": [
    {
     "name": "stdout",
     "output_type": "stream",
     "text": [
      "{'H': 1, 'He': 2, 'Li': 3, 'Be': 4, 'B': 5, 'C': 6, 'N': 7, 'O': 8, 'F': 9, 'Ne': 10, 'Na': 11, 'Mi': 12, 'Al': 13, 'Si': 14, 'P': 15, 'S': 16, 'Cl': 17, 'Ar': 18, 'Ki': 19, 'Ca': 20}\n"
     ]
    }
   ],
   "source": [
    "def knock04():\n",
    "    str = 'Hi He Lied Because Boron Could Not Oxidize Fluorine. New Nations Might Also Sign Peace Security Clause. Arthur King Can.'\n",
    "    num_list = [1, 5, 6, 7, 8, 9, 15, 16]\n",
    "\n",
    "    str = re.sub('[,|.]', '', str)\n",
    "    word_list = str.split(' ')\n",
    "\n",
    "    dict = {}\n",
    "    # インデックス, 要素 in enumerate(リスト)\n",
    "    for i, word in enumerate(word_list):\n",
    "        if i+1 in num_list:\n",
    "            dict[word[:1]] = i+1\n",
    "        else:\n",
    "            dict[word[:2]] = i+1\n",
    "\n",
    "    print(dict)\n",
    "\n",
    "if __name__ == '__main__':\n",
    "    knock04()"
   ]
  },
  {
   "attachments": {},
   "cell_type": "markdown",
   "metadata": {},
   "source": [
    "##### 05. n-gram\n",
    "与えられたシーケンス（文字列やリストなど）からn-gramを作る関数を作成せよ。この関数を用い、”I am an NLPer”という文から単語bi-gram、文字bi-gramを得よ。"
   ]
  },
  {
   "cell_type": "code",
   "execution_count": 7,
   "metadata": {},
   "outputs": [
    {
     "name": "stdout",
     "output_type": "stream",
     "text": [
      "単語bi-gram: [('I', 'am'), ('am', 'an'), ('an', 'NLPer')]\n",
      "文字bi-gram: [('I', 'a'), ('a', 'm'), ('m', 'a'), ('a', 'n'), ('n', 'N'), ('N', 'L'), ('L', 'P'), ('P', 'e'), ('e', 'r')]\n"
     ]
    }
   ],
   "source": [
    "def ngram(n, seq):\n",
    "    # [str[i:] for i in range(2)] -> ['I am an NLPer', ' am an NLPer']\n",
    "    # zip(*[str[i:] for i in range(2)]) -> zip('I am an NLPer', ' am an NLPer')\n",
    "    return list(zip(*[seq[i:] for i in range(n)]))\n",
    "\n",
    "def knock05():\n",
    "    str = 'I am an NLPer'\n",
    "    words_bi_gram = ngram(2, str.split())\n",
    "    chars_bi_gram = ngram(2, str.replace(' ', ''))\n",
    "\n",
    "    print('単語bi-gram:', words_bi_gram)\n",
    "    print('文字bi-gram:', chars_bi_gram)\n",
    "\n",
    "if __name__ == '__main__':\n",
    "    knock05()"
   ]
  },
  {
   "attachments": {},
   "cell_type": "markdown",
   "metadata": {},
   "source": [
    "##### 06. 集合\n",
    "“paraparaparadise”と”paragraph”に含まれる文字bi-gramの集合を、それぞれ、XとYとして求め、XとYの和集合、積集合、差集合を求めよ。さらに、’se’というbi-gramがXおよびYに含まれるかどうかを調べよ。"
   ]
  },
  {
   "cell_type": "code",
   "execution_count": 13,
   "metadata": {},
   "outputs": [
    {
     "name": "stdout",
     "output_type": "stream",
     "text": [
      "X: {('a', 'p'), ('r', 'a'), ('i', 's'), ('s', 'e'), ('d', 'i'), ('a', 'r'), ('a', 'd'), ('p', 'a')}\n",
      "Y: {('p', 'h'), ('a', 'p'), ('a', 'g'), ('r', 'a'), ('g', 'r'), ('a', 'r'), ('p', 'a')}\n",
      "和集合: {('p', 'h'), ('a', 'p'), ('a', 'g'), ('r', 'a'), ('i', 's'), ('s', 'e'), ('d', 'i'), ('g', 'r'), ('a', 'r'), ('a', 'd'), ('p', 'a')}\n",
      "積集合: {('r', 'a'), ('a', 'r'), ('a', 'p'), ('p', 'a')}\n",
      "差集合: {('i', 's'), ('s', 'e'), ('a', 'd'), ('d', 'i')}\n",
      "Xにseが含まれるか: True\n",
      "Yにseが含まれるか: False\n"
     ]
    }
   ],
   "source": [
    "def knock06():\n",
    "    str1 = 'paraparaparadise'\n",
    "    str2 = 'paragraph'\n",
    "    X = set(ngram(2, str1))\n",
    "    Y = set(ngram(2, str2))\n",
    "    union = X | Y\n",
    "    intersection = X & Y\n",
    "    difference = X - Y\n",
    "\n",
    "    print('X:', X)\n",
    "    print('Y:', Y)\n",
    "    print('和集合:', union)\n",
    "    print('積集合:', intersection)\n",
    "    print('差集合:', difference)\n",
    "    print('Xにseが含まれるか:', ('s', 'e') in X)\n",
    "    print('Yにseが含まれるか:', ('s', 'e') in Y)\n",
    "\n",
    "if __name__ == '__main__':\n",
    "    knock06()"
   ]
  },
  {
   "attachments": {},
   "cell_type": "markdown",
   "metadata": {},
   "source": [
    "##### 07. テンプレートによる文生成\n",
    "引数x, y, zを受け取り、「x時のyはz」という文字列を返す関数を実装せよ。さらに、x=12, y='気温', z=22.4として、実行結果を確認せよ。"
   ]
  },
  {
   "cell_type": "code",
   "execution_count": 15,
   "metadata": {},
   "outputs": [
    {
     "name": "stdout",
     "output_type": "stream",
     "text": [
      "12時の気温は22.4\n"
     ]
    }
   ],
   "source": [
    "def knock07(x, y, z):\n",
    "    # f'{}'　テンプレートリテラル\n",
    "    print(f'{x}時の{y}は{z}')\n",
    "\n",
    "if __name__ == '__main__':\n",
    "    knock07(12, '気温', 22.4)"
   ]
  },
  {
   "attachments": {},
   "cell_type": "markdown",
   "metadata": {},
   "source": [
    "##### 08. 暗号文\n",
    "与えられた文字列の各文字を、以下の使用で変換する関数cipherを実装せよ。「英小文字ならば（219 - 文字コード）の文字に置換、その他の文字はそのまま出力」この関数を用い、英語のメッセージを暗号化・複合化せよ。"
   ]
  },
  {
   "cell_type": "code",
   "execution_count": 19,
   "metadata": {},
   "outputs": [
    {
     "name": "stdout",
     "output_type": "stream",
     "text": [
      "暗号化：gsv jfrxp yildm ul qfnkh levi gsv ozab wlt\n",
      "複合化：the quick brown fo jumps over the lazy dog\n"
     ]
    }
   ],
   "source": [
    "def cipher(str):\n",
    "    # ord(str) strをUnicodeに変換\n",
    "    # x.islower() xが英小文字が判定\n",
    "    # 3項演算子 値1 if 条件 else 値2\n",
    "    rep = [chr(219 - ord(x)) if x.islower() else x for x in str]\n",
    "    # '間に挿入する文字列'.join([連結したい文字列のリスト])\n",
    "    return ''.join(rep)\n",
    "\n",
    "def knock08():\n",
    "    message = 'the quick brown fo jumps over the lazy dog'\n",
    "    message = cipher(message)\n",
    "    print(f'暗号化：{message}')\n",
    "    message = cipher(message)\n",
    "    print(f'複合化：{message}')\n",
    "\n",
    "if __name__ == '__main__':\n",
    "    knock08()"
   ]
  },
  {
   "attachments": {},
   "cell_type": "markdown",
   "metadata": {},
   "source": [
    "##### 09. Typoglycemia\n",
    "スペースで区切られた単語列に対して、各単語の先頭と末尾の文字は残し、それ以外の文字の順序をランダムに並び替えるプログラムを作成せよ。ただし、長さが4以下の単語は並び替えないこととする。適当な英語の文（例えば、\"I couldn't believe that I could actually understand what I was reading : the phenomenal power of the human mind.\"）を与え、その実行結果を確認せよ。"
   ]
  },
  {
   "cell_type": "code",
   "execution_count": 21,
   "metadata": {},
   "outputs": [
    {
     "name": "stdout",
     "output_type": "stream",
     "text": [
      "I cunld'ot biveele that I cuold actulaly utasdnenrd what I was raeding : the pneeaonmhl power of the hamun mndi.\n"
     ]
    }
   ],
   "source": [
    "import random\n",
    "\n",
    "def shuffle(words):\n",
    "    result = []\n",
    "    # .split()はデフォルトで空白文字で文字列を分割\n",
    "    for word in words.split():\n",
    "        if len(word) > 4:\n",
    "            # word = 先頭の文字 + 先頭と直継異界の文字列をシャッフルした文字 + 末尾の文字\n",
    "            # random.sample(リスト, 取得要素数)\n",
    "            word = word[:1] + ''.join(random.sample(word[1:-1], len(word) - 2)) + word[-1:]\n",
    "        result.append(word)\n",
    "\n",
    "    return ' '.join(result)\n",
    "\n",
    "def knock09():\n",
    "    words = \"I couldn't believe that I could actually understand what I was reading : the phenomenal power of the human mind.\"\n",
    "    print(shuffle(words))\n",
    "\n",
    "if __name__ == '__main__':\n",
    "    knock09()\n"
   ]
  }
 ],
 "metadata": {
  "kernelspec": {
   "display_name": "Python 3",
   "language": "python",
   "name": "python3"
  },
  "language_info": {
   "codemirror_mode": {
    "name": "ipython",
    "version": 3
   },
   "file_extension": ".py",
   "mimetype": "text/x-python",
   "name": "python",
   "nbconvert_exporter": "python",
   "pygments_lexer": "ipython3",
   "version": "3.9.4"
  },
  "orig_nbformat": 4,
  "vscode": {
   "interpreter": {
    "hash": "4706f29cac928ef508a0c15ae69014c2de2959315c5c66931b07ac2fcf51dd21"
   }
  }
 },
 "nbformat": 4,
 "nbformat_minor": 2
}
